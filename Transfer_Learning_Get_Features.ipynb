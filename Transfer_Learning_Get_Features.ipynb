{
 "cells": [
  {
   "cell_type": "code",
   "execution_count": 61,
   "metadata": {},
   "outputs": [],
   "source": [
    "from torchvision import models\n",
    "import torch.nn as nn"
   ]
  },
  {
   "cell_type": "code",
   "execution_count": 62,
   "metadata": {},
   "outputs": [],
   "source": [
    "model = models.resnet18(pretrained=True)"
   ]
  },
  {
   "cell_type": "code",
   "execution_count": 63,
   "metadata": {},
   "outputs": [
    {
     "name": "stdout",
     "output_type": "stream",
     "text": [
      "<bound method Module.parameters of ResNet(\n",
      "  (conv1): Conv2d(3, 64, kernel_size=(7, 7), stride=(2, 2), padding=(3, 3), bias=False)\n",
      "  (bn1): BatchNorm2d(64, eps=1e-05, momentum=0.1, affine=True, track_running_stats=True)\n",
      "  (relu): ReLU(inplace)\n",
      "  (maxpool): MaxPool2d(kernel_size=3, stride=2, padding=1, dilation=1, ceil_mode=False)\n",
      "  (layer1): Sequential(\n",
      "    (0): BasicBlock(\n",
      "      (conv1): Conv2d(64, 64, kernel_size=(3, 3), stride=(1, 1), padding=(1, 1), bias=False)\n",
      "      (bn1): BatchNorm2d(64, eps=1e-05, momentum=0.1, affine=True, track_running_stats=True)\n",
      "      (relu): ReLU(inplace)\n",
      "      (conv2): Conv2d(64, 64, kernel_size=(3, 3), stride=(1, 1), padding=(1, 1), bias=False)\n",
      "      (bn2): BatchNorm2d(64, eps=1e-05, momentum=0.1, affine=True, track_running_stats=True)\n",
      "    )\n",
      "    (1): BasicBlock(\n",
      "      (conv1): Conv2d(64, 64, kernel_size=(3, 3), stride=(1, 1), padding=(1, 1), bias=False)\n",
      "      (bn1): BatchNorm2d(64, eps=1e-05, momentum=0.1, affine=True, track_running_stats=True)\n",
      "      (relu): ReLU(inplace)\n",
      "      (conv2): Conv2d(64, 64, kernel_size=(3, 3), stride=(1, 1), padding=(1, 1), bias=False)\n",
      "      (bn2): BatchNorm2d(64, eps=1e-05, momentum=0.1, affine=True, track_running_stats=True)\n",
      "    )\n",
      "  )\n",
      "  (layer2): Sequential(\n",
      "    (0): BasicBlock(\n",
      "      (conv1): Conv2d(64, 128, kernel_size=(3, 3), stride=(2, 2), padding=(1, 1), bias=False)\n",
      "      (bn1): BatchNorm2d(128, eps=1e-05, momentum=0.1, affine=True, track_running_stats=True)\n",
      "      (relu): ReLU(inplace)\n",
      "      (conv2): Conv2d(128, 128, kernel_size=(3, 3), stride=(1, 1), padding=(1, 1), bias=False)\n",
      "      (bn2): BatchNorm2d(128, eps=1e-05, momentum=0.1, affine=True, track_running_stats=True)\n",
      "      (downsample): Sequential(\n",
      "        (0): Conv2d(64, 128, kernel_size=(1, 1), stride=(2, 2), bias=False)\n",
      "        (1): BatchNorm2d(128, eps=1e-05, momentum=0.1, affine=True, track_running_stats=True)\n",
      "      )\n",
      "    )\n",
      "    (1): BasicBlock(\n",
      "      (conv1): Conv2d(128, 128, kernel_size=(3, 3), stride=(1, 1), padding=(1, 1), bias=False)\n",
      "      (bn1): BatchNorm2d(128, eps=1e-05, momentum=0.1, affine=True, track_running_stats=True)\n",
      "      (relu): ReLU(inplace)\n",
      "      (conv2): Conv2d(128, 128, kernel_size=(3, 3), stride=(1, 1), padding=(1, 1), bias=False)\n",
      "      (bn2): BatchNorm2d(128, eps=1e-05, momentum=0.1, affine=True, track_running_stats=True)\n",
      "    )\n",
      "  )\n",
      "  (layer3): Sequential(\n",
      "    (0): BasicBlock(\n",
      "      (conv1): Conv2d(128, 256, kernel_size=(3, 3), stride=(2, 2), padding=(1, 1), bias=False)\n",
      "      (bn1): BatchNorm2d(256, eps=1e-05, momentum=0.1, affine=True, track_running_stats=True)\n",
      "      (relu): ReLU(inplace)\n",
      "      (conv2): Conv2d(256, 256, kernel_size=(3, 3), stride=(1, 1), padding=(1, 1), bias=False)\n",
      "      (bn2): BatchNorm2d(256, eps=1e-05, momentum=0.1, affine=True, track_running_stats=True)\n",
      "      (downsample): Sequential(\n",
      "        (0): Conv2d(128, 256, kernel_size=(1, 1), stride=(2, 2), bias=False)\n",
      "        (1): BatchNorm2d(256, eps=1e-05, momentum=0.1, affine=True, track_running_stats=True)\n",
      "      )\n",
      "    )\n",
      "    (1): BasicBlock(\n",
      "      (conv1): Conv2d(256, 256, kernel_size=(3, 3), stride=(1, 1), padding=(1, 1), bias=False)\n",
      "      (bn1): BatchNorm2d(256, eps=1e-05, momentum=0.1, affine=True, track_running_stats=True)\n",
      "      (relu): ReLU(inplace)\n",
      "      (conv2): Conv2d(256, 256, kernel_size=(3, 3), stride=(1, 1), padding=(1, 1), bias=False)\n",
      "      (bn2): BatchNorm2d(256, eps=1e-05, momentum=0.1, affine=True, track_running_stats=True)\n",
      "    )\n",
      "  )\n",
      "  (layer4): Sequential(\n",
      "    (0): BasicBlock(\n",
      "      (conv1): Conv2d(256, 512, kernel_size=(3, 3), stride=(2, 2), padding=(1, 1), bias=False)\n",
      "      (bn1): BatchNorm2d(512, eps=1e-05, momentum=0.1, affine=True, track_running_stats=True)\n",
      "      (relu): ReLU(inplace)\n",
      "      (conv2): Conv2d(512, 512, kernel_size=(3, 3), stride=(1, 1), padding=(1, 1), bias=False)\n",
      "      (bn2): BatchNorm2d(512, eps=1e-05, momentum=0.1, affine=True, track_running_stats=True)\n",
      "      (downsample): Sequential(\n",
      "        (0): Conv2d(256, 512, kernel_size=(1, 1), stride=(2, 2), bias=False)\n",
      "        (1): BatchNorm2d(512, eps=1e-05, momentum=0.1, affine=True, track_running_stats=True)\n",
      "      )\n",
      "    )\n",
      "    (1): BasicBlock(\n",
      "      (conv1): Conv2d(512, 512, kernel_size=(3, 3), stride=(1, 1), padding=(1, 1), bias=False)\n",
      "      (bn1): BatchNorm2d(512, eps=1e-05, momentum=0.1, affine=True, track_running_stats=True)\n",
      "      (relu): ReLU(inplace)\n",
      "      (conv2): Conv2d(512, 512, kernel_size=(3, 3), stride=(1, 1), padding=(1, 1), bias=False)\n",
      "      (bn2): BatchNorm2d(512, eps=1e-05, momentum=0.1, affine=True, track_running_stats=True)\n",
      "    )\n",
      "  )\n",
      "  (avgpool): AvgPool2d(kernel_size=7, stride=1, padding=0)\n",
      "  (fc): Linear(in_features=512, out_features=1000, bias=True)\n",
      ")>\n"
     ]
    }
   ],
   "source": [
    "print(model.parameters)"
   ]
  },
  {
   "cell_type": "markdown",
   "metadata": {},
   "source": [
    "### If we want layer1 and layer2 output, re-construct the network as below, there are 2 ways to achieve this\n",
    "1.  Construct two Sequential\n",
    "2.  Concatenate two layers as long list, then give the list to one Sequential "
   ]
  },
  {
   "cell_type": "code",
   "execution_count": 64,
   "metadata": {},
   "outputs": [],
   "source": [
    "# Method 1\n",
    "original_model = models.resnet18(pretrained=True)\n",
    "\n",
    "class ResLayer1Layer2(nn.Module):\n",
    "            def __init__(self):\n",
    "                super(ResLayer1Layer2, self).__init__()\n",
    "                \n",
    "                self.layer1 = nn.Sequential(*list(original_model.layer1.children()))\n",
    "                self.layer2 = nn.Sequential(*list(original_model.layer2.children()))\n",
    "                \n",
    "            def forward(self, x):\n",
    "                x = self.layer1(x)\n",
    "                x = self.layer2(x)\n",
    "                return x\n",
    "\n",
    "new_model = ResLayer1Layer2()"
   ]
  },
  {
   "cell_type": "code",
   "execution_count": 65,
   "metadata": {},
   "outputs": [
    {
     "data": {
      "text/plain": [
       "<bound method Module.parameters of ResLayer1Layer2(\n",
       "  (layer1): Sequential(\n",
       "    (0): BasicBlock(\n",
       "      (conv1): Conv2d(64, 64, kernel_size=(3, 3), stride=(1, 1), padding=(1, 1), bias=False)\n",
       "      (bn1): BatchNorm2d(64, eps=1e-05, momentum=0.1, affine=True, track_running_stats=True)\n",
       "      (relu): ReLU(inplace)\n",
       "      (conv2): Conv2d(64, 64, kernel_size=(3, 3), stride=(1, 1), padding=(1, 1), bias=False)\n",
       "      (bn2): BatchNorm2d(64, eps=1e-05, momentum=0.1, affine=True, track_running_stats=True)\n",
       "    )\n",
       "    (1): BasicBlock(\n",
       "      (conv1): Conv2d(64, 64, kernel_size=(3, 3), stride=(1, 1), padding=(1, 1), bias=False)\n",
       "      (bn1): BatchNorm2d(64, eps=1e-05, momentum=0.1, affine=True, track_running_stats=True)\n",
       "      (relu): ReLU(inplace)\n",
       "      (conv2): Conv2d(64, 64, kernel_size=(3, 3), stride=(1, 1), padding=(1, 1), bias=False)\n",
       "      (bn2): BatchNorm2d(64, eps=1e-05, momentum=0.1, affine=True, track_running_stats=True)\n",
       "    )\n",
       "  )\n",
       "  (layer2): Sequential(\n",
       "    (0): BasicBlock(\n",
       "      (conv1): Conv2d(64, 128, kernel_size=(3, 3), stride=(2, 2), padding=(1, 1), bias=False)\n",
       "      (bn1): BatchNorm2d(128, eps=1e-05, momentum=0.1, affine=True, track_running_stats=True)\n",
       "      (relu): ReLU(inplace)\n",
       "      (conv2): Conv2d(128, 128, kernel_size=(3, 3), stride=(1, 1), padding=(1, 1), bias=False)\n",
       "      (bn2): BatchNorm2d(128, eps=1e-05, momentum=0.1, affine=True, track_running_stats=True)\n",
       "      (downsample): Sequential(\n",
       "        (0): Conv2d(64, 128, kernel_size=(1, 1), stride=(2, 2), bias=False)\n",
       "        (1): BatchNorm2d(128, eps=1e-05, momentum=0.1, affine=True, track_running_stats=True)\n",
       "      )\n",
       "    )\n",
       "    (1): BasicBlock(\n",
       "      (conv1): Conv2d(128, 128, kernel_size=(3, 3), stride=(1, 1), padding=(1, 1), bias=False)\n",
       "      (bn1): BatchNorm2d(128, eps=1e-05, momentum=0.1, affine=True, track_running_stats=True)\n",
       "      (relu): ReLU(inplace)\n",
       "      (conv2): Conv2d(128, 128, kernel_size=(3, 3), stride=(1, 1), padding=(1, 1), bias=False)\n",
       "      (bn2): BatchNorm2d(128, eps=1e-05, momentum=0.1, affine=True, track_running_stats=True)\n",
       "    )\n",
       "  )\n",
       ")>"
      ]
     },
     "execution_count": 65,
     "metadata": {},
     "output_type": "execute_result"
    }
   ],
   "source": [
    "new_model.parameters\n",
    "#As Can be seen below, there are two Sequentials"
   ]
  },
  {
   "cell_type": "code",
   "execution_count": 66,
   "metadata": {},
   "outputs": [],
   "source": [
    "# Method 2\n",
    "original_model = models.resnet18(pretrained=True)\n",
    "\n",
    "class ResLayer1Layer2(nn.Module):\n",
    "            def __init__(self):\n",
    "                super(ResLayer1Layer2, self).__init__()\n",
    "                list_of_layer = list(original_model.layer1.children())\n",
    "                list_of_layer.extend(list(original_model.layer2.children()))\n",
    "                self.layers = nn.Sequential(*list_of_layer)\n",
    "                \n",
    "            def forward(self, x):\n",
    "                x = self.layers(x)\n",
    "                return x\n",
    "\n",
    "new_model = ResLayer1Layer2()"
   ]
  },
  {
   "cell_type": "code",
   "execution_count": 67,
   "metadata": {},
   "outputs": [
    {
     "data": {
      "text/plain": [
       "<bound method Module.parameters of ResLayer1Layer2(\n",
       "  (layers): Sequential(\n",
       "    (0): BasicBlock(\n",
       "      (conv1): Conv2d(64, 64, kernel_size=(3, 3), stride=(1, 1), padding=(1, 1), bias=False)\n",
       "      (bn1): BatchNorm2d(64, eps=1e-05, momentum=0.1, affine=True, track_running_stats=True)\n",
       "      (relu): ReLU(inplace)\n",
       "      (conv2): Conv2d(64, 64, kernel_size=(3, 3), stride=(1, 1), padding=(1, 1), bias=False)\n",
       "      (bn2): BatchNorm2d(64, eps=1e-05, momentum=0.1, affine=True, track_running_stats=True)\n",
       "    )\n",
       "    (1): BasicBlock(\n",
       "      (conv1): Conv2d(64, 64, kernel_size=(3, 3), stride=(1, 1), padding=(1, 1), bias=False)\n",
       "      (bn1): BatchNorm2d(64, eps=1e-05, momentum=0.1, affine=True, track_running_stats=True)\n",
       "      (relu): ReLU(inplace)\n",
       "      (conv2): Conv2d(64, 64, kernel_size=(3, 3), stride=(1, 1), padding=(1, 1), bias=False)\n",
       "      (bn2): BatchNorm2d(64, eps=1e-05, momentum=0.1, affine=True, track_running_stats=True)\n",
       "    )\n",
       "    (2): BasicBlock(\n",
       "      (conv1): Conv2d(64, 128, kernel_size=(3, 3), stride=(2, 2), padding=(1, 1), bias=False)\n",
       "      (bn1): BatchNorm2d(128, eps=1e-05, momentum=0.1, affine=True, track_running_stats=True)\n",
       "      (relu): ReLU(inplace)\n",
       "      (conv2): Conv2d(128, 128, kernel_size=(3, 3), stride=(1, 1), padding=(1, 1), bias=False)\n",
       "      (bn2): BatchNorm2d(128, eps=1e-05, momentum=0.1, affine=True, track_running_stats=True)\n",
       "      (downsample): Sequential(\n",
       "        (0): Conv2d(64, 128, kernel_size=(1, 1), stride=(2, 2), bias=False)\n",
       "        (1): BatchNorm2d(128, eps=1e-05, momentum=0.1, affine=True, track_running_stats=True)\n",
       "      )\n",
       "    )\n",
       "    (3): BasicBlock(\n",
       "      (conv1): Conv2d(128, 128, kernel_size=(3, 3), stride=(1, 1), padding=(1, 1), bias=False)\n",
       "      (bn1): BatchNorm2d(128, eps=1e-05, momentum=0.1, affine=True, track_running_stats=True)\n",
       "      (relu): ReLU(inplace)\n",
       "      (conv2): Conv2d(128, 128, kernel_size=(3, 3), stride=(1, 1), padding=(1, 1), bias=False)\n",
       "      (bn2): BatchNorm2d(128, eps=1e-05, momentum=0.1, affine=True, track_running_stats=True)\n",
       "    )\n",
       "  )\n",
       ")>"
      ]
     },
     "execution_count": 67,
     "metadata": {},
     "output_type": "execute_result"
    }
   ],
   "source": [
    "new_model.parameters"
   ]
  },
  {
   "cell_type": "markdown",
   "metadata": {},
   "source": [
    "Now we construct a new resnet18, it contains all layers except the last (avgpool) and (fc) layer\n",
    "\n",
    "The output of this network is direct Conv output"
   ]
  },
  {
   "cell_type": "code",
   "execution_count": 74,
   "metadata": {},
   "outputs": [],
   "source": [
    "import torch\n",
    "import torch.nn as nn\n",
    "from torchvision import models\n",
    "\n",
    "\n",
    "\n",
    "class ResnetLayer4(nn.Module):\n",
    "            def __init__(self):\n",
    "                super(ResnetLayer4, self).__init__()\n",
    "                self.conv1 = ori_model.conv1\n",
    "                self.bn1 = ori_model.bn1\n",
    "                self.relu = ori_model.relu\n",
    "                self.maxpool = ori_model.maxpool\n",
    "                self.layer1 = nn.Sequential(*list(ori_model.layer1.children()))\n",
    "                self.layer2 = nn.Sequential(*list(ori_model.layer2.children()))\n",
    "                self.layer3 = nn.Sequential(*list(ori_model.layer3.children()))\n",
    "                self.layer4 = nn.Sequential(*list(ori_model.layer4.children()))\n",
    "                self.maxpool1 = nn.MaxPool2d(kernel_size=7, stride=1, padding=0)\n",
    "            def forward(self, x):\n",
    "                x = self.conv1(x)\n",
    "                x = self.bn1(x)\n",
    "                x = self.relu(x)\n",
    "                x = self.maxpool(x)\n",
    "                \n",
    "                x = self.layer1(x)\n",
    "                x = self.layer2(x)\n",
    "                x = self.layer3(x)\n",
    "                x = self.layer4(x)\n",
    "                x = self.maxpool1(x)\n",
    "                return x\n",
    "\n",
    "if __name__ == '__main__':\n",
    "    ori_model = models.resnet18(pretrained=True)\n",
    "    new_model = ResnetLayer4()"
   ]
  },
  {
   "cell_type": "code",
   "execution_count": 75,
   "metadata": {},
   "outputs": [
    {
     "data": {
      "text/plain": [
       "<bound method Module.parameters of ResnetLayer4(\n",
       "  (conv1): Conv2d(3, 64, kernel_size=(7, 7), stride=(2, 2), padding=(3, 3), bias=False)\n",
       "  (bn1): BatchNorm2d(64, eps=1e-05, momentum=0.1, affine=True, track_running_stats=True)\n",
       "  (relu): ReLU(inplace)\n",
       "  (maxpool): MaxPool2d(kernel_size=3, stride=2, padding=1, dilation=1, ceil_mode=False)\n",
       "  (layer1): Sequential(\n",
       "    (0): BasicBlock(\n",
       "      (conv1): Conv2d(64, 64, kernel_size=(3, 3), stride=(1, 1), padding=(1, 1), bias=False)\n",
       "      (bn1): BatchNorm2d(64, eps=1e-05, momentum=0.1, affine=True, track_running_stats=True)\n",
       "      (relu): ReLU(inplace)\n",
       "      (conv2): Conv2d(64, 64, kernel_size=(3, 3), stride=(1, 1), padding=(1, 1), bias=False)\n",
       "      (bn2): BatchNorm2d(64, eps=1e-05, momentum=0.1, affine=True, track_running_stats=True)\n",
       "    )\n",
       "    (1): BasicBlock(\n",
       "      (conv1): Conv2d(64, 64, kernel_size=(3, 3), stride=(1, 1), padding=(1, 1), bias=False)\n",
       "      (bn1): BatchNorm2d(64, eps=1e-05, momentum=0.1, affine=True, track_running_stats=True)\n",
       "      (relu): ReLU(inplace)\n",
       "      (conv2): Conv2d(64, 64, kernel_size=(3, 3), stride=(1, 1), padding=(1, 1), bias=False)\n",
       "      (bn2): BatchNorm2d(64, eps=1e-05, momentum=0.1, affine=True, track_running_stats=True)\n",
       "    )\n",
       "  )\n",
       "  (layer2): Sequential(\n",
       "    (0): BasicBlock(\n",
       "      (conv1): Conv2d(64, 128, kernel_size=(3, 3), stride=(2, 2), padding=(1, 1), bias=False)\n",
       "      (bn1): BatchNorm2d(128, eps=1e-05, momentum=0.1, affine=True, track_running_stats=True)\n",
       "      (relu): ReLU(inplace)\n",
       "      (conv2): Conv2d(128, 128, kernel_size=(3, 3), stride=(1, 1), padding=(1, 1), bias=False)\n",
       "      (bn2): BatchNorm2d(128, eps=1e-05, momentum=0.1, affine=True, track_running_stats=True)\n",
       "      (downsample): Sequential(\n",
       "        (0): Conv2d(64, 128, kernel_size=(1, 1), stride=(2, 2), bias=False)\n",
       "        (1): BatchNorm2d(128, eps=1e-05, momentum=0.1, affine=True, track_running_stats=True)\n",
       "      )\n",
       "    )\n",
       "    (1): BasicBlock(\n",
       "      (conv1): Conv2d(128, 128, kernel_size=(3, 3), stride=(1, 1), padding=(1, 1), bias=False)\n",
       "      (bn1): BatchNorm2d(128, eps=1e-05, momentum=0.1, affine=True, track_running_stats=True)\n",
       "      (relu): ReLU(inplace)\n",
       "      (conv2): Conv2d(128, 128, kernel_size=(3, 3), stride=(1, 1), padding=(1, 1), bias=False)\n",
       "      (bn2): BatchNorm2d(128, eps=1e-05, momentum=0.1, affine=True, track_running_stats=True)\n",
       "    )\n",
       "  )\n",
       "  (layer3): Sequential(\n",
       "    (0): BasicBlock(\n",
       "      (conv1): Conv2d(128, 256, kernel_size=(3, 3), stride=(2, 2), padding=(1, 1), bias=False)\n",
       "      (bn1): BatchNorm2d(256, eps=1e-05, momentum=0.1, affine=True, track_running_stats=True)\n",
       "      (relu): ReLU(inplace)\n",
       "      (conv2): Conv2d(256, 256, kernel_size=(3, 3), stride=(1, 1), padding=(1, 1), bias=False)\n",
       "      (bn2): BatchNorm2d(256, eps=1e-05, momentum=0.1, affine=True, track_running_stats=True)\n",
       "      (downsample): Sequential(\n",
       "        (0): Conv2d(128, 256, kernel_size=(1, 1), stride=(2, 2), bias=False)\n",
       "        (1): BatchNorm2d(256, eps=1e-05, momentum=0.1, affine=True, track_running_stats=True)\n",
       "      )\n",
       "    )\n",
       "    (1): BasicBlock(\n",
       "      (conv1): Conv2d(256, 256, kernel_size=(3, 3), stride=(1, 1), padding=(1, 1), bias=False)\n",
       "      (bn1): BatchNorm2d(256, eps=1e-05, momentum=0.1, affine=True, track_running_stats=True)\n",
       "      (relu): ReLU(inplace)\n",
       "      (conv2): Conv2d(256, 256, kernel_size=(3, 3), stride=(1, 1), padding=(1, 1), bias=False)\n",
       "      (bn2): BatchNorm2d(256, eps=1e-05, momentum=0.1, affine=True, track_running_stats=True)\n",
       "    )\n",
       "  )\n",
       "  (layer4): Sequential(\n",
       "    (0): BasicBlock(\n",
       "      (conv1): Conv2d(256, 512, kernel_size=(3, 3), stride=(2, 2), padding=(1, 1), bias=False)\n",
       "      (bn1): BatchNorm2d(512, eps=1e-05, momentum=0.1, affine=True, track_running_stats=True)\n",
       "      (relu): ReLU(inplace)\n",
       "      (conv2): Conv2d(512, 512, kernel_size=(3, 3), stride=(1, 1), padding=(1, 1), bias=False)\n",
       "      (bn2): BatchNorm2d(512, eps=1e-05, momentum=0.1, affine=True, track_running_stats=True)\n",
       "      (downsample): Sequential(\n",
       "        (0): Conv2d(256, 512, kernel_size=(1, 1), stride=(2, 2), bias=False)\n",
       "        (1): BatchNorm2d(512, eps=1e-05, momentum=0.1, affine=True, track_running_stats=True)\n",
       "      )\n",
       "    )\n",
       "    (1): BasicBlock(\n",
       "      (conv1): Conv2d(512, 512, kernel_size=(3, 3), stride=(1, 1), padding=(1, 1), bias=False)\n",
       "      (bn1): BatchNorm2d(512, eps=1e-05, momentum=0.1, affine=True, track_running_stats=True)\n",
       "      (relu): ReLU(inplace)\n",
       "      (conv2): Conv2d(512, 512, kernel_size=(3, 3), stride=(1, 1), padding=(1, 1), bias=False)\n",
       "      (bn2): BatchNorm2d(512, eps=1e-05, momentum=0.1, affine=True, track_running_stats=True)\n",
       "    )\n",
       "  )\n",
       "  (maxpool1): MaxPool2d(kernel_size=7, stride=1, padding=0, dilation=1, ceil_mode=False)\n",
       ")>"
      ]
     },
     "execution_count": 75,
     "metadata": {},
     "output_type": "execute_result"
    }
   ],
   "source": [
    "new_model.parameters"
   ]
  },
  {
   "cell_type": "code",
   "execution_count": 52,
   "metadata": {},
   "outputs": [],
   "source": [
    "inputs = torch.randn(1,3,224,224)"
   ]
  },
  {
   "cell_type": "code",
   "execution_count": 53,
   "metadata": {},
   "outputs": [],
   "source": [
    "out = new_model(inputs)"
   ]
  },
  {
   "cell_type": "code",
   "execution_count": 54,
   "metadata": {},
   "outputs": [
    {
     "data": {
      "text/plain": [
       "torch.Size([1, 512, 1, 1])"
      ]
     },
     "execution_count": 54,
     "metadata": {},
     "output_type": "execute_result"
    }
   ],
   "source": [
    "out.size()"
   ]
  },
  {
   "cell_type": "code",
   "execution_count": 55,
   "metadata": {},
   "outputs": [],
   "source": [
    "out = out.squeeze(0)\n",
    "out = out.squeeze(1)\n",
    "out = out.squeeze(1)"
   ]
  },
  {
   "cell_type": "code",
   "execution_count": 56,
   "metadata": {},
   "outputs": [
    {
     "name": "stdout",
     "output_type": "stream",
     "text": [
      "tensor([4.6496, 4.2051, 4.8751, 6.0405, 5.3268, 3.6048, 4.4454, 5.6617, 5.2194,\n",
      "        5.5882, 4.9849, 4.3703, 4.1351, 3.4922, 3.7416, 4.7014, 3.2803, 6.7772,\n",
      "        5.5570, 4.7118, 4.0375, 4.3011, 4.9946, 4.5869, 4.0414, 5.2050, 4.6571,\n",
      "        4.6277, 5.4674, 5.1948, 3.7852, 6.0094, 6.1718, 5.2869, 4.2914, 5.3220,\n",
      "        5.4145, 4.7790, 4.3334, 3.9105, 5.3287, 5.5735, 4.4467, 3.6999, 3.5890,\n",
      "        4.5310, 3.6460, 7.1843, 4.9932, 6.3305, 3.6334, 5.0162, 5.0512, 4.5096,\n",
      "        4.5309, 6.3289, 4.8399, 4.6202, 3.1994, 4.1838, 4.2217, 4.3356, 6.3169,\n",
      "        4.0796, 3.8922, 3.8285, 3.1958, 4.3715, 6.5252, 3.9025, 4.2065, 5.2079,\n",
      "        4.6404, 5.6284, 5.3857, 4.4606, 4.3131, 4.8897, 3.7051, 5.7929, 5.0704,\n",
      "        3.8280, 5.3356, 5.7185, 4.5074, 3.4898, 5.1851, 3.9330, 5.4083, 4.1672,\n",
      "        4.8127, 4.3308, 4.6644, 4.7786, 3.5845, 4.0048, 5.1221, 5.0678, 4.8391,\n",
      "        4.0416, 4.7152, 3.9937, 5.8160, 5.3591, 4.8777, 5.5091, 4.6134, 4.9775,\n",
      "        4.5020, 4.0424, 3.8392, 3.6794, 5.1335, 3.5588, 4.2526, 6.2014, 4.0949,\n",
      "        4.2725, 5.0955, 6.1706, 4.3923, 3.8796, 4.3803, 4.4324, 3.2295, 4.0629,\n",
      "        4.0642, 3.2249, 3.0294, 4.5822, 3.2324, 4.4827, 3.8345, 3.9882, 6.0218,\n",
      "        4.4369, 4.9246, 4.1337, 4.7126, 4.4618, 3.8104, 4.3031, 5.0157, 5.7466,\n",
      "        5.3522, 4.4740, 4.9717, 4.7224, 5.9777, 4.6702, 5.9709, 4.3245, 4.6053,\n",
      "        4.7084, 3.9639, 5.7627, 6.0879, 4.8951, 4.0170, 4.9990, 4.8430, 8.6519,\n",
      "        4.8419, 4.2000, 4.8906, 5.4815, 6.8295, 5.2818, 4.8723, 4.1261, 4.5991,\n",
      "        4.9314, 4.3964, 4.8552, 5.3896, 3.9664, 6.9771, 3.7913, 6.2580, 3.4971,\n",
      "        4.6495, 5.1987, 6.1149, 3.7915, 5.7078, 5.9981, 4.7750, 4.8648, 4.5932,\n",
      "        4.9750, 3.7014, 3.4477, 4.2763, 4.5269, 4.6293, 6.1698, 5.0577, 3.2026,\n",
      "        4.6754, 4.1555, 3.3873, 4.5984, 3.9832, 3.7196, 5.8279, 3.9533, 3.6207,\n",
      "        5.2883, 3.4290, 4.1903, 4.4185, 4.1704, 5.9766, 4.4590, 4.8253, 5.2861,\n",
      "        4.0214, 3.7037, 6.1479, 4.9686, 4.3551, 6.2540, 6.1645, 5.1557, 4.1246,\n",
      "        3.2638, 4.3243, 5.1137, 5.9713, 5.2532, 4.4031, 4.8452, 4.7545, 4.2913,\n",
      "        4.5569, 6.1679, 4.2644, 5.9425, 4.4290, 4.1636, 3.0670, 4.5935, 6.5496,\n",
      "        4.2012, 4.2191, 5.4236, 6.7288, 3.6610, 4.3218, 4.6511, 5.9257, 5.9810,\n",
      "        4.7354, 4.5517, 6.5193, 6.7077, 6.0068, 4.6730, 4.4833, 4.3875, 3.9179,\n",
      "        4.3447, 3.8169, 5.4401, 5.8411, 4.0287, 5.1305, 4.9649, 4.3113, 4.4687,\n",
      "        6.3710, 4.9751, 5.5518, 4.5755, 6.0276, 4.1701, 5.0692, 4.9308, 4.0307,\n",
      "        4.3600, 6.4217, 4.2601, 4.5545, 3.7090, 5.0246, 3.5462, 3.8131, 3.6078,\n",
      "        3.4260, 5.4972, 3.5654, 4.6628, 6.4826, 5.0627, 5.7402, 5.4400, 3.5693,\n",
      "        5.2214, 4.2082, 4.5249, 3.8150, 5.5155, 4.4655, 4.0790, 5.5321, 4.1944,\n",
      "        4.0796, 4.7291, 5.0152, 4.0785, 4.7134, 3.9613, 4.8781, 3.7732, 4.8940,\n",
      "        4.6140, 6.0011, 4.8587, 5.0606, 3.7167, 4.0302, 5.0178, 4.4367, 4.9407,\n",
      "        5.9989, 3.8482, 4.3343, 4.2308, 6.5615, 5.7797, 5.2989, 5.6326, 4.4666,\n",
      "        4.3007, 4.3269, 4.1900, 4.2109, 5.6086, 6.1390, 5.0732, 5.2050, 5.0980,\n",
      "        3.1049, 4.7947, 3.6550, 6.4630, 5.5666, 4.2737, 4.5024, 5.1647, 5.8342,\n",
      "        4.5555, 3.3298, 5.1591, 5.7858, 3.3097, 6.2280, 4.2757, 4.5596, 5.4093,\n",
      "        4.4339, 7.6238, 4.2669, 3.9125, 5.0757, 5.4060, 3.4278, 4.1734, 4.7014,\n",
      "        6.1583, 4.0313, 4.6082, 5.6895, 4.2712, 3.6177, 5.5889, 4.3348, 4.7442,\n",
      "        4.8406, 4.9649, 3.8958, 5.1392, 3.6053, 5.2971, 4.3944, 4.7873, 4.8178,\n",
      "        4.9130, 3.6025, 4.5707, 4.6121, 5.1166, 5.7981, 6.4887, 4.6934, 4.8376,\n",
      "        3.9619, 4.3033, 4.3137, 3.7739, 5.0346, 5.0231, 4.8592, 4.1033, 4.5117,\n",
      "        4.1129, 6.0548, 6.6304, 4.4786, 4.0821, 5.9227, 5.4308, 4.0332, 4.9487,\n",
      "        4.5715, 4.4544, 3.7853, 4.1864, 4.3957, 4.0516, 5.8494, 4.0946, 4.8927,\n",
      "        4.5277, 4.6275, 4.5070, 5.6208, 5.1215, 5.5100, 4.6024, 4.5071, 4.2194,\n",
      "        5.2945, 4.5820, 5.3110, 4.9119, 4.9389, 5.0651, 4.9613, 3.9879, 5.4200,\n",
      "        6.7601, 5.0967, 4.0467, 3.6026, 5.6154, 3.7642, 3.9862, 3.7073, 3.7709,\n",
      "        4.0231, 4.6524, 4.5866, 4.8149, 4.1437, 4.5314, 3.5009, 6.6181, 5.1048,\n",
      "        6.0494, 5.3876, 5.0274, 5.8630, 4.0548, 7.0639, 3.7255, 6.2209, 4.1208,\n",
      "        6.2691, 5.7847, 4.6975, 3.6404, 3.8309, 5.9837, 4.5323, 5.9691, 6.2333,\n",
      "        3.8446, 5.8052, 4.8287, 4.2293, 5.2337, 3.7323, 5.0273, 5.4013, 5.0577,\n",
      "        3.4555, 6.7029, 4.8309, 4.3442, 4.7284, 4.4457, 5.5793, 4.8338, 3.9482,\n",
      "        4.4839, 3.8464, 4.0511, 4.7033, 5.3614, 4.6228, 4.8513, 4.5855, 3.7242,\n",
      "        5.4642, 4.7087, 4.1264, 5.2658, 4.3389, 4.2848, 4.4161, 4.8949],\n",
      "       grad_fn=<SqueezeBackward1>)\n"
     ]
    }
   ],
   "source": [
    "print(out)"
   ]
  },
  {
   "cell_type": "code",
   "execution_count": null,
   "metadata": {},
   "outputs": [],
   "source": []
  }
 ],
 "metadata": {
  "kernelspec": {
   "display_name": "Python 3",
   "language": "python",
   "name": "python3"
  },
  "language_info": {
   "codemirror_mode": {
    "name": "ipython",
    "version": 3
   },
   "file_extension": ".py",
   "mimetype": "text/x-python",
   "name": "python",
   "nbconvert_exporter": "python",
   "pygments_lexer": "ipython3",
   "version": "3.6.4"
  }
 },
 "nbformat": 4,
 "nbformat_minor": 2
}
