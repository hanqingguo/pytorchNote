{
 "cells": [
  {
   "cell_type": "code",
   "execution_count": 1,
   "metadata": {},
   "outputs": [],
   "source": [
    "import os.path as osp\n",
    "import os"
   ]
  },
  {
   "cell_type": "markdown",
   "metadata": {},
   "source": [
    "### os.listdir() return a list of documents(includes directory and file) in current dir"
   ]
  },
  {
   "cell_type": "code",
   "execution_count": 2,
   "metadata": {},
   "outputs": [
    {
     "data": {
      "text/plain": [
       "['LSTM-test.ipynb',\n",
       " 'YOLO.ipynb',\n",
       " 'parallells_cuda.ipynb',\n",
       " 'neural_networks_tutorial.ipynb',\n",
       " 'Pytorch_1.ipynb',\n",
       " 'torch.cat.ipynb',\n",
       " 'Pytorch_2.ipynb',\n",
       " 'Pytorch_0.ipynb',\n",
       " 'Unsqueeze and Squeeze.ipynb',\n",
       " 'Print.ipynb',\n",
       " 'CNN_notes1.ipynb',\n",
       " '.ipynb_checkpoints',\n",
       " 'test_face',\n",
       " 'img',\n",
       " 'mask_torch.nonzero.ipynb',\n",
       " 'yolo_offset_helper.ipynb',\n",
       " 'face_detection',\n",
       " 'README.md',\n",
       " 'TransferLearning.ipynb',\n",
       " 'lstm-img',\n",
       " 'Save_Load_Model.ipynb',\n",
       " 'Face_detection.ipynb',\n",
       " 'Path_Things.ipynb',\n",
       " '.git']"
      ]
     },
     "execution_count": 2,
     "metadata": {},
     "output_type": "execute_result"
    }
   ],
   "source": [
    "os.listdir()"
   ]
  },
  {
   "cell_type": "markdown",
   "metadata": {},
   "source": [
    "### os.listdir('test_face') return a list of documents(includes directory and file) in 'test_face' dir"
   ]
  },
  {
   "cell_type": "code",
   "execution_count": 3,
   "metadata": {},
   "outputs": [
    {
     "data": {
      "text/plain": [
       "['woman-face.jpg',\n",
       " 'nan.jpeg',\n",
       " '35.jpeg',\n",
       " 'nan2.jpeg',\n",
       " 'yun.png',\n",
       " 'lan.png',\n",
       " 'lan.jpg',\n",
       " 'test1.jpg',\n",
       " 'tan2.png',\n",
       " 'girl.jpeg',\n",
       " 'meizi.jpg',\n",
       " 'zou.jpeg',\n",
       " 'zhe.png',\n",
       " 'face.jpeg',\n",
       " 'tan.jpg',\n",
       " 'zhe.jpg',\n",
       " 'pretty.jpeg',\n",
       " 'yun.jpg',\n",
       " 'tan2.jpg',\n",
       " 'chou.jpg',\n",
       " '40.jpg',\n",
       " 'tan.png',\n",
       " 'man.jpg',\n",
       " 'shu.jpeg',\n",
       " 'hanqing.jpeg']"
      ]
     },
     "execution_count": 3,
     "metadata": {},
     "output_type": "execute_result"
    }
   ],
   "source": [
    "os.listdir('test_face')"
   ]
  },
  {
   "cell_type": "markdown",
   "metadata": {},
   "source": [
    "### join 函数，拼接list的element 变成长string\n",
    "\n",
    "+ ' ' =>用空格拼接\n",
    "+ ',' =>用逗号拼接"
   ]
  },
  {
   "cell_type": "code",
   "execution_count": 4,
   "metadata": {},
   "outputs": [
    {
     "data": {
      "text/plain": [
       "'hello good boy doiido'"
      ]
     },
     "execution_count": 4,
     "metadata": {},
     "output_type": "execute_result"
    }
   ],
   "source": [
    "seq1 = ['hello','good','boy','doiido']\n",
    "' '.join(seq1)"
   ]
  },
  {
   "cell_type": "code",
   "execution_count": 5,
   "metadata": {},
   "outputs": [
    {
     "data": {
      "text/plain": [
       "'hello,good,boy,doiido'"
      ]
     },
     "execution_count": 5,
     "metadata": {},
     "output_type": "execute_result"
    }
   ],
   "source": [
    "','.join(seq1)"
   ]
  },
  {
   "cell_type": "markdown",
   "metadata": {},
   "source": [
    "__合并目录"
   ]
  },
  {
   "cell_type": "code",
   "execution_count": 6,
   "metadata": {},
   "outputs": [
    {
     "data": {
      "text/plain": [
       "'/hello/good/boy/doiido'"
      ]
     },
     "execution_count": 6,
     "metadata": {},
     "output_type": "execute_result"
    }
   ],
   "source": [
    "osp.join('/hello/','good/boy/','doiido')"
   ]
  },
  {
   "cell_type": "markdown",
   "metadata": {},
   "source": [
    "### Get absolute path of current file"
   ]
  },
  {
   "cell_type": "code",
   "execution_count": 7,
   "metadata": {},
   "outputs": [
    {
     "data": {
      "text/plain": [
       "'/home/hanqing/pytorchNote'"
      ]
     },
     "execution_count": 7,
     "metadata": {},
     "output_type": "execute_result"
    }
   ],
   "source": [
    "osp.realpath('.')"
   ]
  },
  {
   "cell_type": "code",
   "execution_count": 8,
   "metadata": {},
   "outputs": [
    {
     "data": {
      "text/plain": [
       "'/home/hanqing'"
      ]
     },
     "execution_count": 8,
     "metadata": {},
     "output_type": "execute_result"
    }
   ],
   "source": [
    "osp.dirname(osp.realpath('.'))"
   ]
  },
  {
   "cell_type": "code",
   "execution_count": 10,
   "metadata": {},
   "outputs": [],
   "source": [
    "os.mkdir('/home/hanqing/testdir')"
   ]
  },
  {
   "cell_type": "code",
   "execution_count": null,
   "metadata": {},
   "outputs": [],
   "source": []
  }
 ],
 "metadata": {
  "kernelspec": {
   "display_name": "Python 3",
   "language": "python",
   "name": "python3"
  },
  "language_info": {
   "codemirror_mode": {
    "name": "ipython",
    "version": 3
   },
   "file_extension": ".py",
   "mimetype": "text/x-python",
   "name": "python",
   "nbconvert_exporter": "python",
   "pygments_lexer": "ipython3",
   "version": "3.6.6"
  }
 },
 "nbformat": 4,
 "nbformat_minor": 2
}
