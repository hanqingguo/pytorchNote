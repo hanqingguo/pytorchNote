{
 "cells": [
  {
   "cell_type": "code",
   "execution_count": 3,
   "metadata": {},
   "outputs": [],
   "source": [
    "import torch\n",
    "import numpy as np"
   ]
  },
  {
   "cell_type": "code",
   "execution_count": 15,
   "metadata": {},
   "outputs": [],
   "source": [
    "grid = np.arange(5)"
   ]
  },
  {
   "cell_type": "code",
   "execution_count": 27,
   "metadata": {},
   "outputs": [
    {
     "name": "stdout",
     "output_type": "stream",
     "text": [
      "[[0 1 2 3 4]\n",
      " [0 1 2 3 4]\n",
      " [0 1 2 3 4]\n",
      " [0 1 2 3 4]\n",
      " [0 1 2 3 4]] [[0 0 0 0 0]\n",
      " [1 1 1 1 1]\n",
      " [2 2 2 2 2]\n",
      " [3 3 3 3 3]\n",
      " [4 4 4 4 4]]\n"
     ]
    }
   ],
   "source": [
    "a,b = np.meshgrid(grid,grid)\n",
    "print(a,b)"
   ]
  },
  {
   "cell_type": "code",
   "execution_count": 17,
   "metadata": {},
   "outputs": [],
   "source": [
    "x_offset = torch.FloatTensor(a).view(-1,1)"
   ]
  },
  {
   "cell_type": "code",
   "execution_count": 19,
   "metadata": {},
   "outputs": [],
   "source": [
    "y_offset = torch.FloatTensor(b).view(-1,1)"
   ]
  },
  {
   "cell_type": "code",
   "execution_count": 24,
   "metadata": {},
   "outputs": [
    {
     "data": {
      "text/plain": [
       "(tensor([[0.],\n",
       "         [1.],\n",
       "         [2.],\n",
       "         [3.],\n",
       "         [4.],\n",
       "         [0.],\n",
       "         [1.],\n",
       "         [2.],\n",
       "         [3.],\n",
       "         [4.],\n",
       "         [0.],\n",
       "         [1.],\n",
       "         [2.],\n",
       "         [3.],\n",
       "         [4.],\n",
       "         [0.],\n",
       "         [1.],\n",
       "         [2.],\n",
       "         [3.],\n",
       "         [4.],\n",
       "         [0.],\n",
       "         [1.],\n",
       "         [2.],\n",
       "         [3.],\n",
       "         [4.]]), tensor([[0.],\n",
       "         [0.],\n",
       "         [0.],\n",
       "         [0.],\n",
       "         [0.],\n",
       "         [1.],\n",
       "         [1.],\n",
       "         [1.],\n",
       "         [1.],\n",
       "         [1.],\n",
       "         [2.],\n",
       "         [2.],\n",
       "         [2.],\n",
       "         [2.],\n",
       "         [2.],\n",
       "         [3.],\n",
       "         [3.],\n",
       "         [3.],\n",
       "         [3.],\n",
       "         [3.],\n",
       "         [4.],\n",
       "         [4.],\n",
       "         [4.],\n",
       "         [4.],\n",
       "         [4.]]))"
      ]
     },
     "execution_count": 24,
     "metadata": {},
     "output_type": "execute_result"
    }
   ],
   "source": [
    "x_offset, y_offset"
   ]
  },
  {
   "cell_type": "code",
   "execution_count": 22,
   "metadata": {},
   "outputs": [],
   "source": [
    "cated = torch.cat((x_offset,y_offset),1)"
   ]
  },
  {
   "cell_type": "code",
   "execution_count": 23,
   "metadata": {},
   "outputs": [
    {
     "data": {
      "text/plain": [
       "tensor([[0., 0.],\n",
       "        [1., 0.],\n",
       "        [2., 0.],\n",
       "        [3., 0.],\n",
       "        [4., 0.],\n",
       "        [0., 1.],\n",
       "        [1., 1.],\n",
       "        [2., 1.],\n",
       "        [3., 1.],\n",
       "        [4., 1.],\n",
       "        [0., 2.],\n",
       "        [1., 2.],\n",
       "        [2., 2.],\n",
       "        [3., 2.],\n",
       "        [4., 2.],\n",
       "        [0., 3.],\n",
       "        [1., 3.],\n",
       "        [2., 3.],\n",
       "        [3., 3.],\n",
       "        [4., 3.],\n",
       "        [0., 4.],\n",
       "        [1., 4.],\n",
       "        [2., 4.],\n",
       "        [3., 4.],\n",
       "        [4., 4.]])"
      ]
     },
     "execution_count": 23,
     "metadata": {},
     "output_type": "execute_result"
    }
   ],
   "source": [
    "cated"
   ]
  },
  {
   "cell_type": "code",
   "execution_count": 29,
   "metadata": {},
   "outputs": [],
   "source": [
    "repeated = cated.repeat(1,3)"
   ]
  },
  {
   "cell_type": "code",
   "execution_count": 30,
   "metadata": {},
   "outputs": [
    {
     "data": {
      "text/plain": [
       "tensor([[0., 0., 0., 0., 0., 0.],\n",
       "        [1., 0., 1., 0., 1., 0.],\n",
       "        [2., 0., 2., 0., 2., 0.],\n",
       "        [3., 0., 3., 0., 3., 0.],\n",
       "        [4., 0., 4., 0., 4., 0.],\n",
       "        [0., 1., 0., 1., 0., 1.],\n",
       "        [1., 1., 1., 1., 1., 1.],\n",
       "        [2., 1., 2., 1., 2., 1.],\n",
       "        [3., 1., 3., 1., 3., 1.],\n",
       "        [4., 1., 4., 1., 4., 1.],\n",
       "        [0., 2., 0., 2., 0., 2.],\n",
       "        [1., 2., 1., 2., 1., 2.],\n",
       "        [2., 2., 2., 2., 2., 2.],\n",
       "        [3., 2., 3., 2., 3., 2.],\n",
       "        [4., 2., 4., 2., 4., 2.],\n",
       "        [0., 3., 0., 3., 0., 3.],\n",
       "        [1., 3., 1., 3., 1., 3.],\n",
       "        [2., 3., 2., 3., 2., 3.],\n",
       "        [3., 3., 3., 3., 3., 3.],\n",
       "        [4., 3., 4., 3., 4., 3.],\n",
       "        [0., 4., 0., 4., 0., 4.],\n",
       "        [1., 4., 1., 4., 1., 4.],\n",
       "        [2., 4., 2., 4., 2., 4.],\n",
       "        [3., 4., 3., 4., 3., 4.],\n",
       "        [4., 4., 4., 4., 4., 4.]])"
      ]
     },
     "execution_count": 30,
     "metadata": {},
     "output_type": "execute_result"
    }
   ],
   "source": [
    "repeated"
   ]
  },
  {
   "cell_type": "code",
   "execution_count": 32,
   "metadata": {},
   "outputs": [],
   "source": [
    "viewed = repeated.view(-1,2)"
   ]
  },
  {
   "cell_type": "code",
   "execution_count": 33,
   "metadata": {},
   "outputs": [
    {
     "data": {
      "text/plain": [
       "tensor([[0., 0.],\n",
       "        [0., 0.],\n",
       "        [0., 0.],\n",
       "        [1., 0.],\n",
       "        [1., 0.],\n",
       "        [1., 0.],\n",
       "        [2., 0.],\n",
       "        [2., 0.],\n",
       "        [2., 0.],\n",
       "        [3., 0.],\n",
       "        [3., 0.],\n",
       "        [3., 0.],\n",
       "        [4., 0.],\n",
       "        [4., 0.],\n",
       "        [4., 0.],\n",
       "        [0., 1.],\n",
       "        [0., 1.],\n",
       "        [0., 1.],\n",
       "        [1., 1.],\n",
       "        [1., 1.],\n",
       "        [1., 1.],\n",
       "        [2., 1.],\n",
       "        [2., 1.],\n",
       "        [2., 1.],\n",
       "        [3., 1.],\n",
       "        [3., 1.],\n",
       "        [3., 1.],\n",
       "        [4., 1.],\n",
       "        [4., 1.],\n",
       "        [4., 1.],\n",
       "        [0., 2.],\n",
       "        [0., 2.],\n",
       "        [0., 2.],\n",
       "        [1., 2.],\n",
       "        [1., 2.],\n",
       "        [1., 2.],\n",
       "        [2., 2.],\n",
       "        [2., 2.],\n",
       "        [2., 2.],\n",
       "        [3., 2.],\n",
       "        [3., 2.],\n",
       "        [3., 2.],\n",
       "        [4., 2.],\n",
       "        [4., 2.],\n",
       "        [4., 2.],\n",
       "        [0., 3.],\n",
       "        [0., 3.],\n",
       "        [0., 3.],\n",
       "        [1., 3.],\n",
       "        [1., 3.],\n",
       "        [1., 3.],\n",
       "        [2., 3.],\n",
       "        [2., 3.],\n",
       "        [2., 3.],\n",
       "        [3., 3.],\n",
       "        [3., 3.],\n",
       "        [3., 3.],\n",
       "        [4., 3.],\n",
       "        [4., 3.],\n",
       "        [4., 3.],\n",
       "        [0., 4.],\n",
       "        [0., 4.],\n",
       "        [0., 4.],\n",
       "        [1., 4.],\n",
       "        [1., 4.],\n",
       "        [1., 4.],\n",
       "        [2., 4.],\n",
       "        [2., 4.],\n",
       "        [2., 4.],\n",
       "        [3., 4.],\n",
       "        [3., 4.],\n",
       "        [3., 4.],\n",
       "        [4., 4.],\n",
       "        [4., 4.],\n",
       "        [4., 4.]])"
      ]
     },
     "execution_count": 33,
     "metadata": {},
     "output_type": "execute_result"
    }
   ],
   "source": [
    "viewed"
   ]
  },
  {
   "cell_type": "code",
   "execution_count": 34,
   "metadata": {},
   "outputs": [
    {
     "data": {
      "text/plain": [
       "tensor([[[0., 0.],\n",
       "         [0., 0.],\n",
       "         [0., 0.],\n",
       "         [1., 0.],\n",
       "         [1., 0.],\n",
       "         [1., 0.],\n",
       "         [2., 0.],\n",
       "         [2., 0.],\n",
       "         [2., 0.],\n",
       "         [3., 0.],\n",
       "         [3., 0.],\n",
       "         [3., 0.],\n",
       "         [4., 0.],\n",
       "         [4., 0.],\n",
       "         [4., 0.],\n",
       "         [0., 1.],\n",
       "         [0., 1.],\n",
       "         [0., 1.],\n",
       "         [1., 1.],\n",
       "         [1., 1.],\n",
       "         [1., 1.],\n",
       "         [2., 1.],\n",
       "         [2., 1.],\n",
       "         [2., 1.],\n",
       "         [3., 1.],\n",
       "         [3., 1.],\n",
       "         [3., 1.],\n",
       "         [4., 1.],\n",
       "         [4., 1.],\n",
       "         [4., 1.],\n",
       "         [0., 2.],\n",
       "         [0., 2.],\n",
       "         [0., 2.],\n",
       "         [1., 2.],\n",
       "         [1., 2.],\n",
       "         [1., 2.],\n",
       "         [2., 2.],\n",
       "         [2., 2.],\n",
       "         [2., 2.],\n",
       "         [3., 2.],\n",
       "         [3., 2.],\n",
       "         [3., 2.],\n",
       "         [4., 2.],\n",
       "         [4., 2.],\n",
       "         [4., 2.],\n",
       "         [0., 3.],\n",
       "         [0., 3.],\n",
       "         [0., 3.],\n",
       "         [1., 3.],\n",
       "         [1., 3.],\n",
       "         [1., 3.],\n",
       "         [2., 3.],\n",
       "         [2., 3.],\n",
       "         [2., 3.],\n",
       "         [3., 3.],\n",
       "         [3., 3.],\n",
       "         [3., 3.],\n",
       "         [4., 3.],\n",
       "         [4., 3.],\n",
       "         [4., 3.],\n",
       "         [0., 4.],\n",
       "         [0., 4.],\n",
       "         [0., 4.],\n",
       "         [1., 4.],\n",
       "         [1., 4.],\n",
       "         [1., 4.],\n",
       "         [2., 4.],\n",
       "         [2., 4.],\n",
       "         [2., 4.],\n",
       "         [3., 4.],\n",
       "         [3., 4.],\n",
       "         [3., 4.],\n",
       "         [4., 4.],\n",
       "         [4., 4.],\n",
       "         [4., 4.]]])"
      ]
     },
     "execution_count": 34,
     "metadata": {},
     "output_type": "execute_result"
    }
   ],
   "source": [
    "viewed.unsqueeze(0)"
   ]
  },
  {
   "cell_type": "code",
   "execution_count": 35,
   "metadata": {},
   "outputs": [],
   "source": [
    "anchors = [(13,14),(7,7),(35,36)]"
   ]
  },
  {
   "cell_type": "code",
   "execution_count": 36,
   "metadata": {},
   "outputs": [],
   "source": [
    "anchors = torch.FloatTensor(anchors)"
   ]
  },
  {
   "cell_type": "markdown",
   "metadata": {},
   "source": [
    "### .repeat(dim0_times, dim1_times)\n",
    "__第一个参数__ 指在第0个维度重复5次\n",
    "__第二个参数__ 指在第1个维度重复2次"
   ]
  },
  {
   "cell_type": "code",
   "execution_count": 40,
   "metadata": {},
   "outputs": [
    {
     "data": {
      "text/plain": [
       "tensor([[13., 14., 13., 14.],\n",
       "        [ 7.,  7.,  7.,  7.],\n",
       "        [35., 36., 35., 36.],\n",
       "        [13., 14., 13., 14.],\n",
       "        [ 7.,  7.,  7.,  7.],\n",
       "        [35., 36., 35., 36.],\n",
       "        [13., 14., 13., 14.],\n",
       "        [ 7.,  7.,  7.,  7.],\n",
       "        [35., 36., 35., 36.],\n",
       "        [13., 14., 13., 14.],\n",
       "        [ 7.,  7.,  7.,  7.],\n",
       "        [35., 36., 35., 36.],\n",
       "        [13., 14., 13., 14.],\n",
       "        [ 7.,  7.,  7.,  7.],\n",
       "        [35., 36., 35., 36.]])"
      ]
     },
     "execution_count": 40,
     "metadata": {},
     "output_type": "execute_result"
    }
   ],
   "source": [
    "anchors.repeat(5,2)"
   ]
  },
  {
   "cell_type": "code",
   "execution_count": 42,
   "metadata": {},
   "outputs": [
    {
     "data": {
      "text/plain": [
       "tensor([[13., 14., 13., 14., 13., 14., 13., 14., 13., 14.],\n",
       "        [ 7.,  7.,  7.,  7.,  7.,  7.,  7.,  7.,  7.,  7.],\n",
       "        [35., 36., 35., 36., 35., 36., 35., 36., 35., 36.],\n",
       "        [13., 14., 13., 14., 13., 14., 13., 14., 13., 14.],\n",
       "        [ 7.,  7.,  7.,  7.,  7.,  7.,  7.,  7.,  7.,  7.],\n",
       "        [35., 36., 35., 36., 35., 36., 35., 36., 35., 36.]])"
      ]
     },
     "execution_count": 42,
     "metadata": {},
     "output_type": "execute_result"
    }
   ],
   "source": [
    "anchors.repeat(2,5)"
   ]
  },
  {
   "cell_type": "code",
   "execution_count": null,
   "metadata": {},
   "outputs": [],
   "source": []
  }
 ],
 "metadata": {
  "kernelspec": {
   "display_name": "Python 3",
   "language": "python",
   "name": "python3"
  },
  "language_info": {
   "codemirror_mode": {
    "name": "ipython",
    "version": 3
   },
   "file_extension": ".py",
   "mimetype": "text/x-python",
   "name": "python",
   "nbconvert_exporter": "python",
   "pygments_lexer": "ipython3",
   "version": "3.6.6"
  }
 },
 "nbformat": 4,
 "nbformat_minor": 2
}
