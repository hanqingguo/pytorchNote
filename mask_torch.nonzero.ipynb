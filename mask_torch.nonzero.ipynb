{
 "cells": [
  {
   "cell_type": "code",
   "execution_count": 6,
   "metadata": {},
   "outputs": [],
   "source": [
    "import torch\n",
    "import numpy as np"
   ]
  },
  {
   "cell_type": "markdown",
   "metadata": {},
   "source": [
    "###  torch.nonzero(input, out=None) → LongTensor\n",
    "\n",
    "    Returns a tensor containing the indices of all non-zero elements of input. \n",
    "    \n",
    "    Each row in the result contains the indices of a non-zero element in input.\n",
    "\n",
    "    If input has n dimensions, then the resulting indices tensor out is of size (z×n)\n",
    "     \n",
    "    where z is the total number of non-zero elements in the input tensor."
   ]
  },
  {
   "cell_type": "code",
   "execution_count": 7,
   "metadata": {},
   "outputs": [
    {
     "data": {
      "text/plain": [
       "tensor([[0],\n",
       "        [1],\n",
       "        [2],\n",
       "        [4]])"
      ]
     },
     "execution_count": 7,
     "metadata": {},
     "output_type": "execute_result"
    }
   ],
   "source": [
    "torch.nonzero(torch.tensor([1, 1, 1, 0, 1]))"
   ]
  },
  {
   "cell_type": "markdown",
   "metadata": {},
   "source": [
    "#### input is 1 dimension, n =1, z = 4(because 4 nonzero numbers)\n",
    "so output of this is 4*1"
   ]
  },
  {
   "cell_type": "code",
   "execution_count": 8,
   "metadata": {},
   "outputs": [
    {
     "data": {
      "text/plain": [
       "tensor([[0, 0],\n",
       "        [0, 1],\n",
       "        [1, 1],\n",
       "        [2, 2],\n",
       "        [3, 3]])"
      ]
     },
     "execution_count": 8,
     "metadata": {},
     "output_type": "execute_result"
    }
   ],
   "source": [
    "torch.nonzero(torch.tensor([[0.6, 3.0, 0.0, 0.0],\n",
    "                                [0.0, 0.4, 0.0, 0.0],\n",
    "                                [0.0, 0.0, 1.2, 0.0],\n",
    "                                [0.0, 0.0, 0.0,-0.4]]))"
   ]
  },
  {
   "cell_type": "markdown",
   "metadata": {},
   "source": [
    "In this case, z = 5, n = 2, that means output dimension is \n",
    "5*2"
   ]
  },
  {
   "cell_type": "markdown",
   "metadata": {},
   "source": [
    "### When using torch.nonzero as mask\n",
    "### Target: substract nonzero element from output,\n",
    "### Consider a output:\n",
    "\n",
    "output.size() = 20 * 5\n",
    "\n",
    "The last colume is confidence of the row object, \n",
    "\n",
    "our target is substract those rows whose last colume value is lower than confidence"
   ]
  },
  {
   "cell_type": "code",
   "execution_count": 53,
   "metadata": {},
   "outputs": [],
   "source": [
    "output = torch.Tensor(np.random.randn(20,5)*100)"
   ]
  },
  {
   "cell_type": "code",
   "execution_count": 54,
   "metadata": {},
   "outputs": [
    {
     "data": {
      "text/plain": [
       "(tensor([[  48.5357, -146.0935,   21.4445,   88.1572, -163.6515],\n",
       "         [ -11.6059, -202.5803, -272.6208,  -70.6494,   48.2462],\n",
       "         [  32.2817,  143.3642,   65.2313,  204.4687,  -20.5622],\n",
       "         [ 115.8655,  -98.2565, -212.8266,  143.0192,   57.0147],\n",
       "         [-165.0712,   -6.6130,  -20.0685,  171.9330, -162.5612],\n",
       "         [ -86.6402, -146.7946,   15.3071,   63.3969,  101.3253],\n",
       "         [  15.3417,  -72.3814,  125.2183,  -61.0257,  -96.1000],\n",
       "         [ -16.1364, -111.1410,  325.7547,  -34.7463,  -25.8186],\n",
       "         [ -40.0351, -264.0844,  -92.2704,  131.7545,  -89.1409],\n",
       "         [  76.0579,   51.4955,  -41.4646,  -15.0318,  282.0169],\n",
       "         [ -50.3221, -102.9140,  -43.5693,  -96.9760,   -4.9674],\n",
       "         [ 169.2142,  -39.2906,   -0.1051,   38.8216,   89.4203],\n",
       "         [-112.4179,    5.2091,   -9.0554, -169.9529, -154.7604],\n",
       "         [  50.7450,  -66.4929,  -58.3294,    0.8711, -151.0265],\n",
       "         [-191.1933,  103.8244,   74.2020,  -96.9899,  251.0168],\n",
       "         [  38.9225,  101.0016,  -61.5606, -100.2209,  -15.4846],\n",
       "         [ -20.6245,  -46.4516, -119.9273,   40.2520, -160.4091],\n",
       "         [  43.9860,  -64.1296,  -69.0855,   93.3626,   71.4551],\n",
       "         [  -7.6771,  -80.8006,  -64.2967,   -3.6101,   77.6459],\n",
       "         [-227.5292,  -94.0063, -184.4980,  134.4211,   25.0151]]),\n",
       " torch.Size([20, 5]))"
      ]
     },
     "execution_count": 54,
     "metadata": {},
     "output_type": "execute_result"
    }
   ],
   "source": [
    "output, output.size()"
   ]
  },
  {
   "cell_type": "code",
   "execution_count": 55,
   "metadata": {},
   "outputs": [],
   "source": [
    "confidence = 20"
   ]
  },
  {
   "cell_type": "code",
   "execution_count": 56,
   "metadata": {},
   "outputs": [],
   "source": [
    "mask_index = (output[:,4] > confidence).float()"
   ]
  },
  {
   "cell_type": "code",
   "execution_count": 57,
   "metadata": {},
   "outputs": [
    {
     "data": {
      "text/plain": [
       "(tensor([0., 1., 0., 1., 0., 1., 0., 0., 0., 1., 0., 1., 0., 0., 1., 0., 0., 1.,\n",
       "         1., 1.]), torch.Size([20]))"
      ]
     },
     "execution_count": 57,
     "metadata": {},
     "output_type": "execute_result"
    }
   ],
   "source": [
    "mask_index, mask_index.size()"
   ]
  },
  {
   "cell_type": "code",
   "execution_count": 58,
   "metadata": {},
   "outputs": [],
   "source": [
    "mask_index = mask_index.unsqueeze(1)"
   ]
  },
  {
   "cell_type": "markdown",
   "metadata": {},
   "source": [
    "### Now we get (20,1) confidence true or false"
   ]
  },
  {
   "cell_type": "code",
   "execution_count": 59,
   "metadata": {},
   "outputs": [
    {
     "data": {
      "text/plain": [
       "(tensor([[0.],\n",
       "         [1.],\n",
       "         [0.],\n",
       "         [1.],\n",
       "         [0.],\n",
       "         [1.],\n",
       "         [0.],\n",
       "         [0.],\n",
       "         [0.],\n",
       "         [1.],\n",
       "         [0.],\n",
       "         [1.],\n",
       "         [0.],\n",
       "         [0.],\n",
       "         [1.],\n",
       "         [0.],\n",
       "         [0.],\n",
       "         [1.],\n",
       "         [1.],\n",
       "         [1.]]), torch.Size([20, 1]))"
      ]
     },
     "execution_count": 59,
     "metadata": {},
     "output_type": "execute_result"
    }
   ],
   "source": [
    "mask_index, mask_index.size()"
   ]
  },
  {
   "cell_type": "code",
   "execution_count": 60,
   "metadata": {},
   "outputs": [],
   "source": [
    "output = output * mask_index"
   ]
  },
  {
   "cell_type": "markdown",
   "metadata": {},
   "source": [
    "### Make those lower than confidence row to all 0"
   ]
  },
  {
   "cell_type": "code",
   "execution_count": 61,
   "metadata": {},
   "outputs": [
    {
     "data": {
      "text/plain": [
       "tensor([[   0.0000,   -0.0000,    0.0000,    0.0000,   -0.0000],\n",
       "        [ -11.6059, -202.5803, -272.6208,  -70.6494,   48.2462],\n",
       "        [   0.0000,    0.0000,    0.0000,    0.0000,   -0.0000],\n",
       "        [ 115.8655,  -98.2565, -212.8266,  143.0192,   57.0147],\n",
       "        [  -0.0000,   -0.0000,   -0.0000,    0.0000,   -0.0000],\n",
       "        [ -86.6402, -146.7946,   15.3071,   63.3969,  101.3253],\n",
       "        [   0.0000,   -0.0000,    0.0000,   -0.0000,   -0.0000],\n",
       "        [  -0.0000,   -0.0000,    0.0000,   -0.0000,   -0.0000],\n",
       "        [  -0.0000,   -0.0000,   -0.0000,    0.0000,   -0.0000],\n",
       "        [  76.0579,   51.4955,  -41.4646,  -15.0318,  282.0169],\n",
       "        [  -0.0000,   -0.0000,   -0.0000,   -0.0000,   -0.0000],\n",
       "        [ 169.2142,  -39.2906,   -0.1051,   38.8216,   89.4203],\n",
       "        [  -0.0000,    0.0000,   -0.0000,   -0.0000,   -0.0000],\n",
       "        [   0.0000,   -0.0000,   -0.0000,    0.0000,   -0.0000],\n",
       "        [-191.1933,  103.8244,   74.2020,  -96.9899,  251.0168],\n",
       "        [   0.0000,    0.0000,   -0.0000,   -0.0000,   -0.0000],\n",
       "        [  -0.0000,   -0.0000,   -0.0000,    0.0000,   -0.0000],\n",
       "        [  43.9860,  -64.1296,  -69.0855,   93.3626,   71.4551],\n",
       "        [  -7.6771,  -80.8006,  -64.2967,   -3.6101,   77.6459],\n",
       "        [-227.5292,  -94.0063, -184.4980,  134.4211,   25.0151]])"
      ]
     },
     "execution_count": 61,
     "metadata": {},
     "output_type": "execute_result"
    }
   ],
   "source": [
    "output"
   ]
  },
  {
   "cell_type": "code",
   "execution_count": 62,
   "metadata": {},
   "outputs": [],
   "source": [
    "non_zero_idx = torch.nonzero(output[:,4])"
   ]
  },
  {
   "cell_type": "markdown",
   "metadata": {},
   "source": [
    "### Get nonzero index of last colume"
   ]
  },
  {
   "cell_type": "code",
   "execution_count": 63,
   "metadata": {},
   "outputs": [
    {
     "data": {
      "text/plain": [
       "tensor([[ 1],\n",
       "        [ 3],\n",
       "        [ 5],\n",
       "        [ 9],\n",
       "        [11],\n",
       "        [14],\n",
       "        [17],\n",
       "        [18],\n",
       "        [19]])"
      ]
     },
     "execution_count": 63,
     "metadata": {},
     "output_type": "execute_result"
    }
   ],
   "source": [
    "non_zero_idx"
   ]
  },
  {
   "cell_type": "code",
   "execution_count": 64,
   "metadata": {},
   "outputs": [],
   "source": [
    "output = output[non_zero_idx.squeeze(), :]"
   ]
  },
  {
   "cell_type": "code",
   "execution_count": 65,
   "metadata": {},
   "outputs": [
    {
     "data": {
      "text/plain": [
       "(tensor([[ -11.6059, -202.5803, -272.6208,  -70.6494,   48.2462],\n",
       "         [ 115.8655,  -98.2565, -212.8266,  143.0192,   57.0147],\n",
       "         [ -86.6402, -146.7946,   15.3071,   63.3969,  101.3253],\n",
       "         [  76.0579,   51.4955,  -41.4646,  -15.0318,  282.0169],\n",
       "         [ 169.2142,  -39.2906,   -0.1051,   38.8216,   89.4203],\n",
       "         [-191.1933,  103.8244,   74.2020,  -96.9899,  251.0168],\n",
       "         [  43.9860,  -64.1296,  -69.0855,   93.3626,   71.4551],\n",
       "         [  -7.6771,  -80.8006,  -64.2967,   -3.6101,   77.6459],\n",
       "         [-227.5292,  -94.0063, -184.4980,  134.4211,   25.0151]]),\n",
       " torch.Size([9, 5]))"
      ]
     },
     "execution_count": 65,
     "metadata": {},
     "output_type": "execute_result"
    }
   ],
   "source": [
    "output, output.size()"
   ]
  },
  {
   "cell_type": "code",
   "execution_count": null,
   "metadata": {},
   "outputs": [],
   "source": []
  }
 ],
 "metadata": {
  "kernelspec": {
   "display_name": "Python 3",
   "language": "python",
   "name": "python3"
  },
  "language_info": {
   "codemirror_mode": {
    "name": "ipython",
    "version": 3
   },
   "file_extension": ".py",
   "mimetype": "text/x-python",
   "name": "python",
   "nbconvert_exporter": "python",
   "pygments_lexer": "ipython3",
   "version": "3.6.4"
  }
 },
 "nbformat": 4,
 "nbformat_minor": 2
}
