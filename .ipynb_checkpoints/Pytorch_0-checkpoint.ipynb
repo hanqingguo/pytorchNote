{
 "cells": [
  {
   "cell_type": "code",
   "execution_count": 1,
   "metadata": {
    "collapsed": true
   },
   "outputs": [],
   "source": [
    "import torch"
   ]
  },
  {
   "cell_type": "markdown",
   "metadata": {},
   "source": [
    "## tensor is like ndarray\n",
    "torch.Tensor uninitialled random matrix"
   ]
  },
  {
   "cell_type": "code",
   "execution_count": 4,
   "metadata": {},
   "outputs": [
    {
     "name": "stdout",
     "output_type": "stream",
     "text": [
      "\n",
      "  -0.0000    0.0000   -0.0000\n",
      "   0.0000    0.0000    0.0000\n",
      " 127.0485    0.0000    0.0000\n",
      "   0.0000    0.0000    0.0000\n",
      "   0.0000    0.0000    0.0000\n",
      "[torch.FloatTensor of size 5x3]\n",
      "\n"
     ]
    }
   ],
   "source": [
    "x = torch.Tensor(5,3)\n",
    "print(x)"
   ]
  },
  {
   "cell_type": "markdown",
   "metadata": {},
   "source": [
    "### initial  random matrix"
   ]
  },
  {
   "cell_type": "code",
   "execution_count": 3,
   "metadata": {},
   "outputs": [
    {
     "name": "stdout",
     "output_type": "stream",
     "text": [
      "\n",
      " 0.9824  0.7308  0.1925\n",
      " 0.7534  0.6180  0.1837\n",
      " 0.9227  0.0213  0.1356\n",
      " 0.5116  0.1414  0.2359\n",
      " 0.9578  0.9687  0.1271\n",
      "[torch.FloatTensor of size 5x3]\n",
      "\n"
     ]
    }
   ],
   "source": [
    "x = torch.rand(5,3)\n",
    "print(x)"
   ]
  },
  {
   "cell_type": "markdown",
   "metadata": {},
   "source": [
    "### get size of tensor"
   ]
  },
  {
   "cell_type": "code",
   "execution_count": 7,
   "metadata": {},
   "outputs": [
    {
     "data": {
      "text/plain": [
       "torch.Size([5, 3])"
      ]
     },
     "execution_count": 7,
     "metadata": {},
     "output_type": "execute_result"
    }
   ],
   "source": [
    "x.size()"
   ]
  },
  {
   "cell_type": "markdown",
   "metadata": {},
   "source": [
    "### Operation\n",
    "Tensor operation can be written as torch.add(x,y), y.add_(x). All of them is equal to matrix operation, and can be automatically get derivation"
   ]
  },
  {
   "cell_type": "code",
   "execution_count": 10,
   "metadata": {},
   "outputs": [
    {
     "name": "stdout",
     "output_type": "stream",
     "text": [
      "\n",
      "   0.2823    0.7308    0.7491\n",
      "   0.6747    0.4993    0.9699\n",
      " 127.6645    0.1783    0.2293\n",
      "   0.8971    0.2815    0.9831\n",
      "   0.6375    0.5185    0.5707\n",
      "[torch.FloatTensor of size 5x3]\n",
      "\n"
     ]
    }
   ],
   "source": [
    "y = torch.rand(5,3)\n",
    "z = x + y\n",
    "print(z)"
   ]
  },
  {
   "cell_type": "markdown",
   "metadata": {},
   "source": [
    "### Convert tensor to numpy array"
   ]
  },
  {
   "cell_type": "code",
   "execution_count": 12,
   "metadata": {},
   "outputs": [
    {
     "name": "stdout",
     "output_type": "stream",
     "text": [
      "[[  0.28234303   0.73079073   0.74908525]\n",
      " [  0.67465603   0.4993267    0.9698655 ]\n",
      " [127.66448      0.17831641   0.22931135]\n",
      " [  0.8971106    0.28148293   0.9830894 ]\n",
      " [  0.6374865    0.51852226   0.57069737]]\n"
     ]
    }
   ],
   "source": [
    "h = z.numpy()\n",
    "print(h)"
   ]
  },
  {
   "cell_type": "markdown",
   "metadata": {},
   "source": [
    "### Still satisfy matrix broadcasting rule"
   ]
  },
  {
   "cell_type": "code",
   "execution_count": 13,
   "metadata": {},
   "outputs": [
    {
     "name": "stdout",
     "output_type": "stream",
     "text": [
      "\n",
      "   0.2823    0.7308    0.7491\n",
      "   0.6747    0.4993    0.9699\n",
      " 127.6645    0.1783    0.2293\n",
      "   0.8971    0.2815    0.9831\n",
      "   0.6375    0.5185    0.5707\n",
      "[torch.FloatTensor of size 5x3]\n",
      "\n",
      "\n",
      "   1.2823    1.7308    1.7491\n",
      "   1.6747    1.4993    1.9699\n",
      " 128.6645    1.1783    1.2293\n",
      "   1.8971    1.2815    1.9831\n",
      "   1.6375    1.5185    1.5707\n",
      "[torch.FloatTensor of size 5x3]\n",
      "\n"
     ]
    }
   ],
   "source": [
    "print(z)\n",
    "print(z+1)"
   ]
  },
  {
   "cell_type": "markdown",
   "metadata": {},
   "source": [
    "### Can be move to GPU"
   ]
  },
  {
   "cell_type": "code",
   "execution_count": 16,
   "metadata": {},
   "outputs": [
    {
     "name": "stdout",
     "output_type": "stream",
     "text": [
      "\n",
      "   0.2823    0.7308    0.7491\n",
      "   0.6747    0.4993    0.9699\n",
      " 127.6645    0.1783    0.2293\n",
      "   0.8971    0.2815    0.9831\n",
      "   0.6375    0.5185    0.5707\n",
      "[torch.cuda.FloatTensor of size 5x3 (GPU 0)]\n",
      "\n"
     ]
    }
   ],
   "source": [
    "if torch.cuda.is_available():\n",
    "    x = x.cuda()\n",
    "    y = y.cuda()\n",
    "    print(x+y)"
   ]
  },
  {
   "cell_type": "code",
   "execution_count": null,
   "metadata": {
    "collapsed": true
   },
   "outputs": [],
   "source": []
  }
 ],
 "metadata": {
  "kernelspec": {
   "display_name": "Python 3",
   "language": "python",
   "name": "python3"
  },
  "language_info": {
   "codemirror_mode": {
    "name": "ipython",
    "version": 3
   },
   "file_extension": ".py",
   "mimetype": "text/x-python",
   "name": "python",
   "nbconvert_exporter": "python",
   "pygments_lexer": "ipython3",
   "version": "3.6.6"
  }
 },
 "nbformat": 4,
 "nbformat_minor": 2
}
